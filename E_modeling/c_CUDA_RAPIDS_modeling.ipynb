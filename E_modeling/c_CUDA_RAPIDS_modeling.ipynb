{
 "cells": [
  {
   "cell_type": "code",
   "execution_count": 8,
   "outputs": [],
   "source": [
    "import warnings\n",
    "\n",
    "warnings.filterwarnings(\"ignore\") "
   ],
   "metadata": {
    "collapsed": false,
    "ExecuteTime": {
     "end_time": "2023-11-01T00:15:02.529713609Z",
     "start_time": "2023-11-01T00:15:02.507354667Z"
    }
   },
   "id": "fb18859a66ebdb65"
  },
  {
   "cell_type": "code",
   "execution_count": 9,
   "id": "initial_id",
   "metadata": {
    "collapsed": true,
    "ExecuteTime": {
     "end_time": "2023-11-01T00:15:03.971472253Z",
     "start_time": "2023-11-01T00:15:03.964019228Z"
    }
   },
   "outputs": [],
   "source": [
    "import sys\n",
    "sys.path.append(\"../\")\n",
    "\n",
    "import os\n",
    "import cudf\n",
    "from numpy import arange\n",
    "from joblib import dump\n",
    "\n",
    "from C_scrub.c_CUDA_RAPIDS_data_engineering import scrub_feature_engineering\n",
    "\n",
    "from sklearn.metrics import make_scorer\n",
    "from cuml.metrics.accuracy import accuracy_score\n",
    "from cuml.model_selection import train_test_split\n",
    "\n",
    "import xgboost as xgb\n",
    "\n",
    "import dask_ml.model_selection as dcv\n",
    "from dask.distributed import Client\n",
    "from dask_cuda import LocalCUDACluster\n"
   ]
  },
  {
   "cell_type": "markdown",
   "source": [
    "# System set-up"
   ],
   "metadata": {
    "collapsed": false
   },
   "id": "df21b4751b99a9b9"
  },
  {
   "cell_type": "code",
   "execution_count": 10,
   "outputs": [],
   "source": [
    "BASE_DIR = os.path.dirname(os.getcwd())\n",
    "DATA_DIR = os.path.join(BASE_DIR, 'A_data')\n",
    "RESOURCES_DIR = os.path.join(BASE_DIR, 'B_resources', 'c_CUDA_RAPIDS')"
   ],
   "metadata": {
    "collapsed": false,
    "ExecuteTime": {
     "end_time": "2023-11-01T00:15:06.385046254Z",
     "start_time": "2023-11-01T00:15:06.371464418Z"
    }
   },
   "id": "3e3ac996edddd7d7"
  },
  {
   "cell_type": "code",
   "execution_count": 11,
   "outputs": [
    {
     "data": {
      "text/plain": "<Client: 'tcp://127.0.0.1:43021' processes=1 threads=1, memory=251.77 GiB>",
      "text/html": "<div>\n    <div style=\"width: 24px; height: 24px; background-color: #e1e1e1; border: 3px solid #9D9D9D; border-radius: 5px; position: absolute;\"> </div>\n    <div style=\"margin-left: 48px;\">\n        <h3 style=\"margin-bottom: 0px;\">Client</h3>\n        <p style=\"color: #9D9D9D; margin-bottom: 0px;\">Client-b9685194-784b-11ee-b4d5-84144d06ffdb</p>\n        <table style=\"width: 100%; text-align: left;\">\n\n        <tr>\n        \n            <td style=\"text-align: left;\"><strong>Connection method:</strong> Cluster object</td>\n            <td style=\"text-align: left;\"><strong>Cluster type:</strong> dask_cuda.LocalCUDACluster</td>\n        \n        </tr>\n\n        \n            <tr>\n                <td style=\"text-align: left;\">\n                    <strong>Dashboard: </strong> <a href=\"http://127.0.0.1:45257/status\" target=\"_blank\">http://127.0.0.1:45257/status</a>\n                </td>\n                <td style=\"text-align: left;\"></td>\n            </tr>\n        \n\n        </table>\n\n        \n\n        \n            <details>\n            <summary style=\"margin-bottom: 20px;\"><h3 style=\"display: inline;\">Cluster Info</h3></summary>\n            <div class=\"jp-RenderedHTMLCommon jp-RenderedHTML jp-mod-trusted jp-OutputArea-output\">\n    <div style=\"width: 24px; height: 24px; background-color: #e1e1e1; border: 3px solid #9D9D9D; border-radius: 5px; position: absolute;\">\n    </div>\n    <div style=\"margin-left: 48px;\">\n        <h3 style=\"margin-bottom: 0px; margin-top: 0px;\">LocalCUDACluster</h3>\n        <p style=\"color: #9D9D9D; margin-bottom: 0px;\">aed605ac</p>\n        <table style=\"width: 100%; text-align: left;\">\n            <tr>\n                <td style=\"text-align: left;\">\n                    <strong>Dashboard:</strong> <a href=\"http://127.0.0.1:45257/status\" target=\"_blank\">http://127.0.0.1:45257/status</a>\n                </td>\n                <td style=\"text-align: left;\">\n                    <strong>Workers:</strong> 1\n                </td>\n            </tr>\n            <tr>\n                <td style=\"text-align: left;\">\n                    <strong>Total threads:</strong> 1\n                </td>\n                <td style=\"text-align: left;\">\n                    <strong>Total memory:</strong> 251.77 GiB\n                </td>\n            </tr>\n            \n            <tr>\n    <td style=\"text-align: left;\"><strong>Status:</strong> running</td>\n    <td style=\"text-align: left;\"><strong>Using processes:</strong> True</td>\n</tr>\n\n            \n        </table>\n\n        <details>\n            <summary style=\"margin-bottom: 20px;\">\n                <h3 style=\"display: inline;\">Scheduler Info</h3>\n            </summary>\n\n            <div style=\"\">\n    <div>\n        <div style=\"width: 24px; height: 24px; background-color: #FFF7E5; border: 3px solid #FF6132; border-radius: 5px; position: absolute;\"> </div>\n        <div style=\"margin-left: 48px;\">\n            <h3 style=\"margin-bottom: 0px;\">Scheduler</h3>\n            <p style=\"color: #9D9D9D; margin-bottom: 0px;\">Scheduler-0306cd5b-af86-4979-9852-10261a9bf019</p>\n            <table style=\"width: 100%; text-align: left;\">\n                <tr>\n                    <td style=\"text-align: left;\">\n                        <strong>Comm:</strong> tcp://127.0.0.1:43021\n                    </td>\n                    <td style=\"text-align: left;\">\n                        <strong>Workers:</strong> 1\n                    </td>\n                </tr>\n                <tr>\n                    <td style=\"text-align: left;\">\n                        <strong>Dashboard:</strong> <a href=\"http://127.0.0.1:45257/status\" target=\"_blank\">http://127.0.0.1:45257/status</a>\n                    </td>\n                    <td style=\"text-align: left;\">\n                        <strong>Total threads:</strong> 1\n                    </td>\n                </tr>\n                <tr>\n                    <td style=\"text-align: left;\">\n                        <strong>Started:</strong> Just now\n                    </td>\n                    <td style=\"text-align: left;\">\n                        <strong>Total memory:</strong> 251.77 GiB\n                    </td>\n                </tr>\n            </table>\n        </div>\n    </div>\n\n    <details style=\"margin-left: 48px;\">\n        <summary style=\"margin-bottom: 20px;\">\n            <h3 style=\"display: inline;\">Workers</h3>\n        </summary>\n\n        \n        <div style=\"margin-bottom: 20px;\">\n            <div style=\"width: 24px; height: 24px; background-color: #DBF5FF; border: 3px solid #4CC9FF; border-radius: 5px; position: absolute;\"> </div>\n            <div style=\"margin-left: 48px;\">\n            <details>\n                <summary>\n                    <h4 style=\"margin-bottom: 0px; display: inline;\">Worker: 0</h4>\n                </summary>\n                <table style=\"width: 100%; text-align: left;\">\n                    <tr>\n                        <td style=\"text-align: left;\">\n                            <strong>Comm: </strong> tcp://127.0.0.1:46213\n                        </td>\n                        <td style=\"text-align: left;\">\n                            <strong>Total threads: </strong> 1\n                        </td>\n                    </tr>\n                    <tr>\n                        <td style=\"text-align: left;\">\n                            <strong>Dashboard: </strong> <a href=\"http://127.0.0.1:35983/status\" target=\"_blank\">http://127.0.0.1:35983/status</a>\n                        </td>\n                        <td style=\"text-align: left;\">\n                            <strong>Memory: </strong> 251.77 GiB\n                        </td>\n                    </tr>\n                    <tr>\n                        <td style=\"text-align: left;\">\n                            <strong>Nanny: </strong> tcp://127.0.0.1:44301\n                        </td>\n                        <td style=\"text-align: left;\"></td>\n                    </tr>\n                    <tr>\n                        <td colspan=\"2\" style=\"text-align: left;\">\n                            <strong>Local directory: </strong> /tmp/dask-scratch-space/worker-3zw_vpzt\n                        </td>\n                    </tr>\n\n                    \n                    <tr>\n                        <td style=\"text-align: left;\">\n                            <strong>GPU: </strong>NVIDIA GeForce RTX 3060\n                        </td>\n                        <td style=\"text-align: left;\">\n                            <strong>GPU memory: </strong> 12.00 GiB\n                        </td>\n                    </tr>\n                    \n\n                    \n\n                </table>\n            </details>\n            </div>\n        </div>\n        \n\n    </details>\n</div>\n\n        </details>\n    </div>\n</div>\n            </details>\n        \n\n    </div>\n</div>"
     },
     "execution_count": 11,
     "metadata": {},
     "output_type": "execute_result"
    }
   ],
   "source": [
    "def get_cluster():\n",
    "    cluster = LocalCUDACluster(\n",
    "        device_memory_limit='10GB',\n",
    "        jit_unspill=True\n",
    "    )\n",
    "    client = Client(cluster)\n",
    "    return client\n",
    "client = get_cluster()\n",
    "n_workers = len(client.scheduler_info()[\"workers\"])\n",
    "client"
   ],
   "metadata": {
    "collapsed": false,
    "ExecuteTime": {
     "end_time": "2023-11-01T00:15:12.447478868Z",
     "start_time": "2023-11-01T00:15:08.521941823Z"
    }
   },
   "id": "9b42ca0fcba5ddd8"
  },
  {
   "cell_type": "code",
   "execution_count": 13,
   "outputs": [],
   "source": [
    "import time\n",
    "from contextlib import contextmanager\n",
    "\n",
    "# Helping time blocks of code\n",
    "@contextmanager\n",
    "def timed(txt):\n",
    "    t0 = time.time()\n",
    "    yield\n",
    "    t1 = time.time()\n",
    "    print(\"%32s time:  %8.5f\" % (txt, t1 - t0))"
   ],
   "metadata": {
    "collapsed": false,
    "ExecuteTime": {
     "end_time": "2023-11-01T00:16:18.096032813Z",
     "start_time": "2023-11-01T00:16:18.058267895Z"
    }
   },
   "id": "ec933f353201c87c"
  },
  {
   "cell_type": "markdown",
   "source": [
    "# Collect data"
   ],
   "metadata": {
    "collapsed": false
   },
   "id": "ffe66b06401f38fa"
  },
  {
   "cell_type": "code",
   "execution_count": 14,
   "outputs": [],
   "source": [
    "data_compet = cudf.read_csv(os.path.join(DATA_DIR, \"train.csv\"))\n",
    "data_compet.drop(['id'], axis=1, inplace=True)\n",
    "\n",
    "data_orig = cudf.read_csv(os.path.join(DATA_DIR, 'horse.csv'))  # Include public data\n",
    "\n",
    "data = cudf.concat([data_compet, data_orig], ignore_index=True)\n",
    "\n",
    "data.dropna(subset=['outcome'], inplace=True)\n",
    "data.drop_duplicates(inplace=True)\n",
    "data.reset_index(drop=True, inplace=True)\n",
    "\n",
    "del data_compet, data_orig"
   ],
   "metadata": {
    "collapsed": false,
    "ExecuteTime": {
     "end_time": "2023-11-01T00:16:21.416054604Z",
     "start_time": "2023-11-01T00:16:21.301508900Z"
    }
   },
   "id": "1dbbe94798b98c4"
  },
  {
   "cell_type": "markdown",
   "source": [
    "# Prepare data"
   ],
   "metadata": {
    "collapsed": false
   },
   "id": "499fa8ec2845199a"
  },
  {
   "cell_type": "code",
   "execution_count": 15,
   "outputs": [],
   "source": [
    "data = scrub_feature_engineering(data, train=True)"
   ],
   "metadata": {
    "collapsed": false,
    "ExecuteTime": {
     "end_time": "2023-11-01T00:16:25.267644518Z",
     "start_time": "2023-11-01T00:16:23.516865163Z"
    }
   },
   "id": "a1d5feda81cf4f2a"
  },
  {
   "cell_type": "markdown",
   "source": [
    "# Parameters definition"
   ],
   "metadata": {
    "collapsed": false
   },
   "id": "49e587d00f36a4e7"
  },
  {
   "cell_type": "code",
   "execution_count": 16,
   "outputs": [],
   "source": [
    "random_seed = 5000\n",
    "\n",
    "# test split size\n",
    "split_size = 0.2\n",
    "\n",
    "#Number of cross-validation folds\n",
    "n_splits = 4\n",
    "\n",
    "# number of iteration for RamdomizedSearchCV\n",
    "XGB_grid_n_iter_search = 3**4"
   ],
   "metadata": {
    "collapsed": false,
    "ExecuteTime": {
     "end_time": "2023-11-01T00:16:41.477342331Z",
     "start_time": "2023-11-01T00:16:41.434695053Z"
    }
   },
   "id": "1132561128fe2222"
  },
  {
   "cell_type": "markdown",
   "source": [
    "# Undersampling\n",
    "\n",
    "Didn't bring improvement to the model."
   ],
   "metadata": {
    "collapsed": false
   },
   "id": "fb26d223812004c8"
  },
  {
   "cell_type": "code",
   "execution_count": null,
   "outputs": [],
   "source": [
    "# data = data.groupby('outcome').apply(lambda x: x.sample(data['outcome'].value_counts().min(), random_state=random_seed))"
   ],
   "metadata": {
    "collapsed": false
   },
   "id": "f6e9e1e8dc8a6fa0"
  },
  {
   "cell_type": "markdown",
   "source": [
    "# Split data"
   ],
   "metadata": {
    "collapsed": false
   },
   "id": "7988636b06da0660"
  },
  {
   "cell_type": "code",
   "execution_count": 19,
   "outputs": [],
   "source": [
    "X_train, X_test, y_train, y_test = train_test_split(data.drop('outcome', axis=1),\n",
    "                                                    data['outcome'],\n",
    "                                                    test_size=split_size,\n",
    "                                                    stratify=data['outcome'])"
   ],
   "metadata": {
    "collapsed": false,
    "ExecuteTime": {
     "end_time": "2023-11-01T00:17:36.987255128Z",
     "start_time": "2023-11-01T00:17:36.397243558Z"
    }
   },
   "id": "f665960564fdc32e"
  },
  {
   "cell_type": "code",
   "execution_count": 20,
   "outputs": [],
   "source": [
    "X_cpu = X_train.to_pandas()\n",
    "y_cpu = y_train.to_numpy()\n",
    "\n",
    "X_test_cpu = X_test.to_pandas()\n",
    "y_test_cpu = y_test.to_numpy()"
   ],
   "metadata": {
    "collapsed": false,
    "ExecuteTime": {
     "end_time": "2023-11-01T00:17:39.106062212Z",
     "start_time": "2023-11-01T00:17:38.715065837Z"
    }
   },
   "id": "80a2a538f4d349d1"
  },
  {
   "cell_type": "markdown",
   "source": [
    "# Define metrics functions"
   ],
   "metadata": {
    "collapsed": false
   },
   "id": "850fddf09174c954"
  },
  {
   "cell_type": "code",
   "execution_count": 21,
   "outputs": [],
   "source": [
    "def accuracy_score_wrapper(y, y_hat):\n",
    "    \"\"\"\n",
    "    A wrapper function to convert labels to float32,\n",
    "    and pass it to accuracy_score.\n",
    "\n",
    "    Params:\n",
    "    - y: The y labels that need to be converted\n",
    "    - y_hat: The predictions made by the model\n",
    "    \"\"\"\n",
    "    y = y.astype(\"float32\")  # cuML RandomForest needs the y labels to be float32\n",
    "    return accuracy_score(y, y_hat, convert_dtype=True)\n",
    "\n",
    "accuracy_wrapper_scorer = make_scorer(accuracy_score_wrapper)\n",
    "cuml_accuracy_scorer = make_scorer(accuracy_score, convert_dtype=True)"
   ],
   "metadata": {
    "collapsed": false,
    "ExecuteTime": {
     "end_time": "2023-11-01T00:17:40.913612912Z",
     "start_time": "2023-11-01T00:17:40.906979023Z"
    }
   },
   "id": "82804a5621d61a67"
  },
  {
   "cell_type": "markdown",
   "source": [
    "# Define Hyperparameters Optimization functions"
   ],
   "metadata": {
    "collapsed": false
   },
   "id": "2ff5016166c3cf35"
  },
  {
   "cell_type": "code",
   "execution_count": 22,
   "outputs": [],
   "source": [
    "def do_HPO(model, gridsearch_params, scorer, X, y, mode=\"gpu-Grid\", n_iter=10):\n",
    "    \"\"\"\n",
    "    Perform HPO based on the mode specified\n",
    "\n",
    "    mode: default gpu-Grid. The possible options are:\n",
    "    1. gpu-grid: Perform GPU based GridSearchCV\n",
    "    2. gpu-random: Perform GPU based RandomizedSearchCV\n",
    "\n",
    "    n_iter: specified with Random option for number of parameter settings sampled\n",
    "\n",
    "    Returns the best estimator and the results of the search\n",
    "    \"\"\"\n",
    "    if mode == \"gpu-grid\":\n",
    "        print(\"gpu-grid selected\")\n",
    "        clf = dcv.GridSearchCV(model, gridsearch_params, cv=n_splits, scoring=scorer)\n",
    "    elif mode == \"gpu-random\":\n",
    "        print(\"gpu-random selected\")\n",
    "        clf = dcv.RandomizedSearchCV(model, gridsearch_params, cv=n_splits, scoring=scorer, n_iter=n_iter)\n",
    "    else:\n",
    "        print(\"Unknown Option, please choose one of [gpu-grid, gpu-random]\")\n",
    "        return None, None\n",
    "\n",
    "    models_fitted = clf.fit(X, y)\n",
    "\n",
    "    print(\n",
    "        \"Best clf and score {} {}\\n---\\n\".format(models_fitted.best_estimator_, models_fitted.best_score_)\n",
    "    )\n",
    "    return models_fitted.best_estimator_, models_fitted"
   ],
   "metadata": {
    "collapsed": false,
    "ExecuteTime": {
     "end_time": "2023-11-01T00:17:45.529722156Z",
     "start_time": "2023-11-01T00:17:45.502943009Z"
    }
   },
   "id": "3ae6ade34420d984"
  },
  {
   "cell_type": "code",
   "execution_count": 23,
   "outputs": [],
   "source": [
    "def last_fit(model, X_train, y_train, X_test, y_test, mode_str=\"Default\"):\n",
    "    \"\"\"\n",
    "    Trains a model on the train data provided, and prints the accuracy of the trained model.\n",
    "    mode_str: User specifies what model it is to print the value\n",
    "    \"\"\"\n",
    "    y_pred = model.fit(X_train, y_train).predict(X_test)\n",
    "    score = accuracy_score(y_pred, y_test.astype(\"float32\"), convert_dtype=True)\n",
    "    print(\"{} model accuracy: {}\".format(mode_str, score))"
   ],
   "metadata": {
    "collapsed": false,
    "ExecuteTime": {
     "end_time": "2023-11-01T00:17:48.178245450Z",
     "start_time": "2023-11-01T00:17:48.161222951Z"
    }
   },
   "id": "b22df997774eab15"
  },
  {
   "cell_type": "markdown",
   "source": [
    "# Define hyperparameters search grid"
   ],
   "metadata": {
    "collapsed": false
   },
   "id": "77bbe88cc12e9df"
  },
  {
   "cell_type": "code",
   "execution_count": null,
   "outputs": [],
   "source": [
    "# # For xgb_model\n",
    "# model_gpu_xgb = xgb.XGBClassifier(tree_method=\"gpu_hist\")\n",
    "# \n",
    "# # More range\n",
    "# params_xgb = {\n",
    "#     \"max_depth\": arange(start=1, stop=21, step=1),\n",
    "#     \"alpha\": logspace(start=-5, stop=-1, num=5, endpoint=True),  # default = 0\n",
    "#     \"learning_rate\": arange(start=0.05, stop=0.5, step=0.05),\n",
    "#     \"min_child_weight\": arange(start=2, stop=10, step=3),  # default = 1\n",
    "#     \"n_estimators\": arange(start=5, stop=310, step=5)\n",
    "# }"
   ],
   "metadata": {
    "collapsed": false
   },
   "id": "543cd94a31828f6d"
  },
  {
   "cell_type": "code",
   "execution_count": 25,
   "outputs": [],
   "source": [
    "# For xgb_model\n",
    "model_gpu_xgb = xgb.XGBClassifier()\n",
    "\n",
    "# More range\n",
    "params_xgb = {\n",
    "    \"max_depth\": arange(start=3, stop=11, step=1),\n",
    "    \"learning_rate\": arange(start=0.05, stop=0.5, step=0.05),\n",
    "    \"min_child_weight\": arange(start=1, stop=10, step=1),  # default = 1\n",
    "    \"n_estimators\": [100],\n",
    "    \"gamma\": arange(start=0, stop=0.5, step=0.05),\n",
    "    \"subsample\": arange(start=0.6, stop=1.0, step=0.05),\n",
    "    \"colsample_bytree\": arange(start=0.6, stop=1.0, step=0.05),\n",
    "    'objective':['multi:softmax'],\n",
    "    'num_class':[3],\n",
    "    \"eval_metric\": [\"mlogloss\"],\n",
    "    \"tree_method\": [\"gpu_hist\"],\n",
    "    'predictor':['gpu_predictor'],\n",
    "}"
   ],
   "metadata": {
    "collapsed": false,
    "ExecuteTime": {
     "end_time": "2023-11-01T00:18:03.798817223Z",
     "start_time": "2023-11-01T00:18:03.782345212Z"
    }
   },
   "id": "c93005ef7fea0548"
  },
  {
   "cell_type": "markdown",
   "source": [
    "# Fit models"
   ],
   "metadata": {
    "collapsed": false
   },
   "id": "e860d5741d4f7b5c"
  },
  {
   "cell_type": "markdown",
   "source": [
    "## Default parameters accuracy"
   ],
   "metadata": {
    "collapsed": false
   },
   "id": "6192de05891a4286"
  },
  {
   "cell_type": "code",
   "execution_count": 26,
   "outputs": [
    {
     "name": "stdout",
     "output_type": "stream",
     "text": [
      "Default model accuracy: 0.7385621070861816\n"
     ]
    }
   ],
   "source": [
    "model_gpu_xgb_ = xgb.XGBClassifier(tree_method=\"gpu_hist\")\n",
    "last_fit(model_gpu_xgb_, X_train, y_cpu, X_test, y_test_cpu)"
   ],
   "metadata": {
    "collapsed": false,
    "ExecuteTime": {
     "end_time": "2023-11-01T00:18:08.519684465Z",
     "start_time": "2023-11-01T00:18:07.205989213Z"
    }
   },
   "id": "87eac0a7cf31fc9e"
  },
  {
   "cell_type": "markdown",
   "source": [
    "## HPO XGBoost"
   ],
   "metadata": {
    "collapsed": false
   },
   "id": "248c0a9216f568a5"
  },
  {
   "cell_type": "code",
   "execution_count": 27,
   "outputs": [
    {
     "name": "stdout",
     "output_type": "stream",
     "text": [
      "gpu-random selected\n",
      "Best clf and score XGBClassifier(base_score=None, booster=None, callbacks=None,\n",
      "              colsample_bylevel=None, colsample_bynode=None,\n",
      "              colsample_bytree=0.7000000000000001, early_stopping_rounds=None,\n",
      "              enable_categorical=False, eval_metric='mlogloss',\n",
      "              feature_types=None, gamma=0.0, gpu_id=None, grow_policy=None,\n",
      "              importance_type=None, interaction_constraints=None,\n",
      "              learning_rate=0.2, max_bin=None, max_cat_threshold=None,\n",
      "              max_cat_to_onehot=None, max_delta_step=None, max_depth=3,\n",
      "              max_leaves=None, min_child_weight=2, missing=nan,\n",
      "              monotone_constraints=None, n_estimators=100, n_jobs=None,\n",
      "              num_class=3, num_parallel_tree=None, objective='multi:softmax', ...) 0.7528548068070684\n",
      "---\n",
      "\n",
      "                  XGB-gpu-random time:  266.15023\n",
      "Searched over 81 parameters\n"
     ]
    }
   ],
   "source": [
    "mode = \"gpu-random\"\n",
    "\n",
    "with timed(\"XGB-\" + mode):\n",
    "    best_model, models_fitted = do_HPO(\n",
    "        model_gpu_xgb,\n",
    "        params_xgb,\n",
    "        cuml_accuracy_scorer,\n",
    "        X_train,\n",
    "        y_cpu,\n",
    "        mode=mode,\n",
    "        n_iter=XGB_grid_n_iter_search,\n",
    "    )\n",
    "print(\"Searched over {} parameters\".format(len(models_fitted.cv_results_[\"mean_test_score\"])))"
   ],
   "metadata": {
    "collapsed": false,
    "ExecuteTime": {
     "end_time": "2023-11-01T00:22:50.913411864Z",
     "start_time": "2023-11-01T00:18:24.710076740Z"
    }
   },
   "id": "2143c154a00c5255"
  },
  {
   "cell_type": "code",
   "execution_count": 28,
   "outputs": [
    {
     "name": "stdout",
     "output_type": "stream",
     "text": [
      "gpu-random model accuracy: 0.7352941036224365\n"
     ]
    }
   ],
   "source": [
    "last_fit(best_model, X_train, y_cpu, X_test_cpu, y_test_cpu, mode_str=mode)"
   ],
   "metadata": {
    "collapsed": false,
    "ExecuteTime": {
     "end_time": "2023-11-01T00:23:12.375407142Z",
     "start_time": "2023-11-01T00:23:11.561895189Z"
    }
   },
   "id": "ad2d6f2fee34f558"
  },
  {
   "cell_type": "markdown",
   "source": [
    "# Save model"
   ],
   "metadata": {
    "collapsed": false
   },
   "id": "f598a899b84e966d"
  },
  {
   "cell_type": "code",
   "execution_count": 29,
   "outputs": [
    {
     "data": {
      "text/plain": "['/home/jgsolar/Documentos/SHARED/Projetos Pessoais/multiplatform_classifier/B_resources/c_CUDA_RAPIDS/model_xgboost_v0.1.joblib']"
     },
     "execution_count": 29,
     "metadata": {},
     "output_type": "execute_result"
    }
   ],
   "source": [
    "dump(best_model, os.path.join(RESOURCES_DIR, \"model_xgboost_v0.1.joblib\"))"
   ],
   "metadata": {
    "collapsed": false,
    "ExecuteTime": {
     "end_time": "2023-11-01T00:23:20.711966784Z",
     "start_time": "2023-11-01T00:23:20.690775071Z"
    }
   },
   "id": "97b6aa69fe9ce4ee"
  }
 ],
 "metadata": {
  "kernelspec": {
   "display_name": "Python 3",
   "language": "python",
   "name": "python3"
  },
  "language_info": {
   "codemirror_mode": {
    "name": "ipython",
    "version": 2
   },
   "file_extension": ".py",
   "mimetype": "text/x-python",
   "name": "python",
   "nbconvert_exporter": "python",
   "pygments_lexer": "ipython2",
   "version": "2.7.6"
  }
 },
 "nbformat": 4,
 "nbformat_minor": 5
}
